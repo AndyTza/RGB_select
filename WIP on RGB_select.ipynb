{
 "cells": [
  {
   "cell_type": "code",
   "execution_count": 1,
   "metadata": {},
   "outputs": [],
   "source": [
    "import astropy.units as u\n",
    "from dustmaps.sfd import SFDWebQuery\n",
    "import numpy as np\n",
    "from astropy.coordinates import SkyCoord\n",
    "from astropy.table import Table\n",
    "from astropy.io import ascii, fits\n",
    "import logging\n",
    "from galpy.util import bovy_coords\n",
    "from progressbar import *\n",
    "from astropy.io import ascii\n",
    "\n"
   ]
  },
  {
   "cell_type": "code",
   "execution_count": 4,
   "metadata": {},
   "outputs": [],
   "source": [
    "\n",
    "\n",
    "%load_ext autoreload\n",
    "import test"
   ]
  },
  {
   "cell_type": "code",
   "execution_count": 21,
   "metadata": {},
   "outputs": [],
   "source": [
    "\n",
    "data_path = '/Users/iraf1/Downloads/gaia_sample.csv'\n",
    "\n",
    "data = ascii.read(data_path)"
   ]
  },
  {
   "cell_type": "code",
   "execution_count": 22,
   "metadata": {},
   "outputs": [],
   "source": [
    "test_data = data[0:55000] # reduce the size"
   ]
  },
  {
   "cell_type": "code",
   "execution_count": 23,
   "metadata": {},
   "outputs": [],
   "source": [
    "import astropy.units as u\n",
    "from dustmaps.sfd import SFDWebQuery\n",
    "import numpy as np\n",
    "from astropy.coordinates import SkyCoord\n",
    "from astropy.table import Table\n",
    "from astropy.io import ascii, fits\n",
    "from galpy.util import bovy_coords\n",
    "\n",
    "\n",
    "class rgb():\n",
    "    \"\"\"\n",
    "    Create RGB star selection object.\n",
    "    \n",
    "    \"\"\"\n",
    "\n",
    "    def __init__(self, data):\n",
    "        self.data = data\n",
    "\n",
    "\n",
    "    def dust_correction(self, r_ks=0.306, r_j=0.72, r_h=0.46):\n",
    "        \"\"\"\n",
    "        For 2MASS bandpasses: ks, j and h magnitudes, this function will return the corrected magnitudes based of the\n",
    "        SFD E(B-V) values at a given for a line of sight in Galactic coordinates (l,b).\n",
    "        Exctinction coefficients r_ are bandpassses taken by Yuan et al. 2013.\n",
    "\n",
    "        Input\n",
    "        ------\n",
    "        data(astropy.table): Astropy table contaning (contains: ks_mag, j_mag, h_mag)\n",
    "\n",
    "        Output\n",
    "        -------\n",
    "        data(astropy.table): Initial data table in addition to new columns: (ks0, j0, h0, aks, aj, ah)\n",
    "\n",
    "        \"\"\"\n",
    "\n",
    "        # Transform RA, DEC to l,b\n",
    "        lb = bovy_coords.radec_to_lb(data['ra'], data['dec'], degree=True)\n",
    "        l, b = lb[:, 0], lb[:, 1]\n",
    "\n",
    "        N = len(l) # Total number of stars in data file\n",
    "        query_max = 1000000 # maximum number of sources we can query\n",
    "        N_int = N/query_max # Split the data to query\n",
    "\n",
    "        L = np.arange(0, (int(N_int)+1)*query_max, step=query_max)\n",
    "        L = np.append(L, N) # add last value of total N points\n",
    "\n",
    "        sfd = SFDWebQuery() # call SFD query function\n",
    "\n",
    "        ks0 = np.ndarray(shape=(N,1)) # empty array for corrected magnitudes\n",
    "        j0 = np.ndarray(shape=(N,1)) # empty array for corrected magnitudes\n",
    "        h0 = np.ndarray(shape=(N,1)) # empty array for corrected magnitudes\n",
    "        aks = np.ndarray(shape=(N,1)) # empty array for corrected magnitudes\n",
    "        aj = np.ndarray(shape=(N,1)) # empty array for corrected magnitudes\n",
    "        ah = np.ndarray(shape=(N,1)) # empty array for corrected magnitudes\n",
    "\n",
    "        for i in range (0, len(L)-1):\n",
    "\n",
    "            # Select the Galactic coordinates we want to estimate E(B-V)\n",
    "            l_ad = l[L[i]:L[i+1]]\n",
    "            b_ad = b[L[i]:L[i+1]]\n",
    "            coords = SkyCoord(l_ad*u.deg, b_ad*u.deg, frame='galactic')\n",
    "\n",
    "            # Query coords and return E(B-V) SFD for each source\n",
    "            ebv_sfd = sfd(coords)\n",
    "\n",
    "            # Apply corrections to each magnitude band based on E(B-V) estimates\n",
    "            corr_ks = ((data['ks_m'])[L[i]:L[i+1]]) - (r_ks*ebv_sfd)\n",
    "            corr_j = ((data['j_m'])[L[i]:L[i+1]]) - (r_j*ebv_sfd)\n",
    "            corr_h = ((data['h_m'])[L[i]:L[i+1]]) - (r_h*ebv_sfd)\n",
    "\n",
    "            # corrected magnitudes\n",
    "            ks0[L[i]:L[i+1], 0] = corr_ks\n",
    "            j0[L[i]:L[i+1], 0] = corr_j\n",
    "            h0[L[i]:L[i+1], 0] = corr_h\n",
    "            # exctinction coefficient appends\n",
    "            aks[L[i]:L[i+1], 0] = r_ks*ebv_sfd\n",
    "            aj[L[i]:L[i+1], 0] = r_j*ebv_sfd\n",
    "            ah[L[i]:L[i+1], 0] = r_h*ebv_sfd\n",
    "\n",
    "\n",
    "        dat = Table([ks0, j0, h0, aks, aj, ah], names=('ks0', 'j0', 'h0', 'A_ks', 'A_j', 'A_h'))\n",
    "\n",
    "        data.add_columns([dat['ks0'], dat['j0'], dat['h0'], dat['A_ks'], dat['A_j'], dat['A_h']])\n",
    "\n",
    "        return (data)\n",
    "\n",
    "\n",
    "    def rgb_select(self, table, JKs0=0.85, up_ks0=9.5, down_ks0=12.5):\n",
    "        \"\"\"\n",
    "        This function will return the selected stars (exctinction corrected) for given photometric constrains from 2MASSself.\n",
    "        Magnitude-Color values are used from Sharama et al. 2010\n",
    "\n",
    "        \"\"\"\n",
    "\n",
    "        # first we're going to estimate the colors: (J-Ks)0 & (J-H)0\n",
    "        jks0 = table['j0'] - table['ks0'] # j0-ks0\n",
    "        jh0 = table['j0'] - table['h0'] # j0-h0\n",
    "\n",
    "        # Photometric cuts suggested by Sharama et al. 2010 for selecting M-giant stars\n",
    "        giant = np.where((table['ks0']>up_ks0) & (table['ks0']<down_ks0) & (jks0>JKs0) & (jh0<(0.561*jks0+0.36)) & (jh0>(0.561*jks0+0.19)))\n",
    "\n",
    "        return table[giant[0]]\n"
   ]
  },
  {
   "cell_type": "code",
   "execution_count": 24,
   "metadata": {},
   "outputs": [],
   "source": [
    "rb_test = rgb(test_data)"
   ]
  },
  {
   "cell_type": "code",
   "execution_count": 25,
   "metadata": {},
   "outputs": [
    {
     "name": "stdout",
     "output_type": "stream",
     "text": [
      "/Users/iraf1/anaconda/envs/py36/lib/python3.6/site-packages/astropy/coordinates/baseframe.py:128: AstropyDeprecationWarning: The `representation` keyword/property name is deprecated in favor of `representation_type`\n",
      "  'favor of `representation_type`', AstropyDeprecationWarning)\n",
      "\n"
     ]
    }
   ],
   "source": [
    "corrected = rb_test.dust_correction(r_ks=0.306, r_j=0.72, r_h=0.46)"
   ]
  },
  {
   "cell_type": "code",
   "execution_count": 27,
   "metadata": {},
   "outputs": [],
   "source": [
    "rb_test_giants = rb_test.rgb_select(corrected)"
   ]
  },
  {
   "cell_type": "code",
   "execution_count": 31,
   "metadata": {},
   "outputs": [
    {
     "data": {
      "text/plain": [
       "(array([ 5.,  4., 11.,  4., 15., 19., 30., 49., 58., 66.]),\n",
       " array([ 9.51637106,  9.81456398, 10.1127569 , 10.41094982, 10.70914274,\n",
       "        11.00733566, 11.30552858, 11.6037215 , 11.90191442, 12.20010734,\n",
       "        12.49830026]),\n",
       " <a list of 10 Patch objects>)"
      ]
     },
     "execution_count": 31,
     "metadata": {},
     "output_type": "execute_result"
    },
    {
     "data": {
      "image/png": "[encoded data removed]",
      "text/plain": [
       "<Figure size 432x288 with 1 Axes>"
      ]
     },
     "metadata": {},
     "output_type": "display_data"
    }
   ],
   "source": [
    "import matplotlib.pyplot as plt \n",
    "%matplotlib inline\n",
    "\n",
    "plt.hist(rb_test_giants['ks0'])"
   ]
  },
  {
   "cell_type": "code",
   "execution_count": null,
   "metadata": {},
   "outputs": [],
   "source": []
  },
  {
   "cell_type": "code",
   "execution_count": null,
   "metadata": {},
   "outputs": [],
   "source": []
  },
  {
   "cell_type": "code",
   "execution_count": null,
   "metadata": {},
   "outputs": [],
   "source": []
  }
 ],
 "metadata": {
  "kernelspec": {
   "display_name": "Python 3",
   "language": "python",
   "name": "python3"
  },
  "language_info": {
   "codemirror_mode": {
    "name": "ipython",
    "version": 3
   },
   "file_extension": ".py",
   "mimetype": "text/x-python",
   "name": "python",
   "nbconvert_exporter": "python",
   "pygments_lexer": "ipython3",
   "version": "3.6.4"
  }
 },
 "nbformat": 4,
 "nbformat_minor": 2
}
